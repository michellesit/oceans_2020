{
 "cells": [
  {
   "cell_type": "code",
   "execution_count": 35,
   "metadata": {},
   "outputs": [
    {
     "name": "stdout",
     "output_type": "stream",
     "text": [
      "Gurobi Optimizer version 9.0.2 build v9.0.2rc0 (linux64)\n",
      "Optimize a model with 22 rows, 19 columns and 56 nonzeros\n",
      "Model fingerprint: 0x21bb240c\n",
      "Variable types: 0 continuous, 19 integer (16 binary)\n",
      "Coefficient statistics:\n",
      "  Matrix range     [1e+00, 1e+02]\n",
      "  Objective range  [1e+00, 1e+00]\n",
      "  Bounds range     [1e+00, 1e+00]\n",
      "  RHS range        [1e+00, 5e+07]\n",
      "Found heuristic solution: objective 1.0000000\n",
      "Presolve removed 22 rows and 19 columns\n",
      "Presolve time: 0.00s\n",
      "Presolve: All rows and columns removed\n",
      "\n",
      "Explored 0 nodes (0 simplex iterations) in 0.01 seconds\n",
      "Thread count was 1 (of 16 available processors)\n",
      "\n",
      "Solution count 2: 2 \n",
      "\n",
      "Optimal solution found (tolerance 1.00e-04)\n",
      "Best objective 2.000000000000e+00, best bound 2.000000000000e+00, gap 0.0000%\n",
      "{(0, 0): 0.0, (0, 1): 1.0, (0, 2): 0.0, (0, 3): 0.0, (1, 0): 0.0, (1, 1): 0.0, (1, 2): 1.0, (1, 3): 0.0, (2, 0): 0.0, (2, 1): -0.0, (2, 2): 0.0, (2, 3): 1.0, (3, 0): 0.0, (3, 1): 0.0, (3, 2): 0.0, (3, 3): 0.0}\n"
     ]
    }
   ],
   "source": [
    "import random\n",
    "import gurobipy as grb\n",
    "import math\n",
    "import numpy as np\n",
    "\n",
    "n = 4\n",
    "Distance = 50000000\n",
    "# Distance = 200\n",
    "\n",
    "# def distance(points, i, j):\n",
    "#   dx = points[i][0] - points[j][0]\n",
    "#   dy = points[i][1] - points[j][1]\n",
    "#   return math.sqrt(dx*dx + dy*dy)\n",
    "\n",
    "# random.seed(1)\n",
    "# points = []\n",
    "# for i in range(n):\n",
    "#   points.append((random.randint(0,100),random.randint(0,100)))\n",
    "\n",
    "points = [(i,j) for i in range(6) for j in range(6)]\n",
    "distance = np.random.randint(0, 100, size=(6,6))\n",
    "\n",
    "opt_model = grb.Model(name=\"MILP Model\")\n",
    "\n",
    "# <= Variables\n",
    "x_vars = {}\n",
    "for i in range(n):\n",
    "   for j in range(n):\n",
    "     x_vars[i,j] = opt_model.addVar(vtype=grb.GRB.BINARY,\n",
    "                          name='e'+str(i)+'_'+str(j))\n",
    "u={}\n",
    "for i in range(1,n):\n",
    "    u[i]=opt_model.addVar(vtype=grb.GRB.INTEGER,\n",
    "                          name='e'+str(i))\n",
    "\n",
    "# <= Constraint (Mandatory Edges and excluding vertexes) Eq(1)\n",
    "\n",
    "\n",
    "opt_model.addConstr(grb.quicksum([x_vars[1,j] for j in range(1,n)])  == 1)\n",
    "opt_model.addConstr(grb.quicksum([x_vars[i,n-1] for i in range(n-1)])  == 1)\n",
    "# opt_model.addConstr((grb.quicksum(x_vars[i,i] for i in range(n-1)))  == 0)\n",
    "# <= Constraint (Distance) Eq(3)\n",
    "\n",
    "# for i in range(n-1):\n",
    "#   opt_model.addConstr(grb.quicksum([x_vars[i,j]*distance(points, i, j) for j in range(1,n)]) <= Distance)\n",
    "\n",
    "# opt_model.addConstr(grb.quicksum([x_vars[i,j]*distance(points, i,j) for j in range(1,n) for i in range(n-1)]) <= Distance)\n",
    "opt_model.addConstr(grb.quicksum([x_vars[i,j]*distance[i,j] for j in range(1,n) for i in range(n-1)]) <= Distance)\n",
    "\n",
    "# <= Constraint (Equality & Single edge in and out) Eq(2)\n",
    "\n",
    "for k in range(1, n-1):\n",
    "#   opt_model.addConstr(grb.quicksum(x_vars[i,k] for i in range(n-1))\n",
    "#                       == grb.quicksum(x_vars[k,j] for j in range(1, n)) <=1)\n",
    "\n",
    "    one = grb.quicksum([x_vars[i,k] for i in range(n-1)])\n",
    "    two = grb.quicksum([x_vars[k,j] for j in range(1, n)])\n",
    "    opt_model.addConstr(one == two)\n",
    "    opt_model.addConstr(one <= 1)\n",
    "\n",
    "# <= Constraint (Subtour elimination) Eq(4) Eq(5)\n",
    "\n",
    "for i in range(1,n):\n",
    "    opt_model.addConstr(2 <= u[i])\n",
    "    opt_model.addConstr(u[i] <= n)\n",
    "#   opt_model.addConstr(2 <= u[i] <= n)\n",
    "\n",
    "for i in range(1,n):\n",
    "    for j in range(1,n):\n",
    "        opt_model.addConstr((u[i] - u[j] +1 <= (n-1)*(1-x_vars[j,i])))\n",
    "\n",
    "# <= objective (maximize) Eq(1)\n",
    "\n",
    "objective = grb.quicksum([x_vars[i,j]\n",
    "                         for i in range(1, n-1)\n",
    "                         for j in range(1, n)])\n",
    "\n",
    "opt_model.ModelSense = grb.GRB.MAXIMIZE\n",
    "opt_model.setObjective(objective)\n",
    "opt_model.optimize()\n",
    "\n",
    "\n",
    "# opt_model.update()\n",
    "# opt_model.computeIIS()\n",
    "# opt_model.write(\"model.ilp\")\n",
    "solution = opt_model.getAttr('x', x_vars )\n",
    "\n",
    "print (solution)"
   ]
  },
  {
   "cell_type": "code",
   "execution_count": 36,
   "metadata": {},
   "outputs": [
    {
     "name": "stdout",
     "output_type": "stream",
     "text": [
      "<gurobi.tuplelist (3 tuples, 2 values each):\n",
      " ( 0 , 1 )\n",
      " ( 1 , 2 )\n",
      " ( 2 , 3 )\n",
      ">\n"
     ]
    }
   ],
   "source": [
    "select = grb.tuplelist((i,j) for i,j in x_vars.keys() if x_vars[i,j].X > 0.5)\n",
    "print (select)"
   ]
  },
  {
   "cell_type": "code",
   "execution_count": 38,
   "metadata": {},
   "outputs": [
    {
     "name": "stdout",
     "output_type": "stream",
     "text": [
      "177\n"
     ]
    }
   ],
   "source": [
    "total = 0\n",
    "for z in range(len(select)):\n",
    "#     total += distance(points, select[z][0], select[z][1])\n",
    "    total += distance[select[z][0], select[z][1]]\n",
    "    \n",
    "print (total)"
   ]
  },
  {
   "cell_type": "code",
   "execution_count": 39,
   "metadata": {},
   "outputs": [
    {
     "data": {
      "text/plain": [
       "[(0, 0),\n",
       " (0, 1),\n",
       " (0, 2),\n",
       " (0, 3),\n",
       " (0, 4),\n",
       " (0, 5),\n",
       " (1, 0),\n",
       " (1, 1),\n",
       " (1, 2),\n",
       " (1, 3),\n",
       " (1, 4),\n",
       " (1, 5),\n",
       " (2, 0),\n",
       " (2, 1),\n",
       " (2, 2),\n",
       " (2, 3),\n",
       " (2, 4),\n",
       " (2, 5),\n",
       " (3, 0),\n",
       " (3, 1),\n",
       " (3, 2),\n",
       " (3, 3),\n",
       " (3, 4),\n",
       " (3, 5),\n",
       " (4, 0),\n",
       " (4, 1),\n",
       " (4, 2),\n",
       " (4, 3),\n",
       " (4, 4),\n",
       " (4, 5),\n",
       " (5, 0),\n",
       " (5, 1),\n",
       " (5, 2),\n",
       " (5, 3),\n",
       " (5, 4),\n",
       " (5, 5)]"
      ]
     },
     "execution_count": 39,
     "metadata": {},
     "output_type": "execute_result"
    }
   ],
   "source": [
    "points"
   ]
  },
  {
   "cell_type": "code",
   "execution_count": null,
   "metadata": {},
   "outputs": [],
   "source": []
  }
 ],
 "metadata": {
  "kernelspec": {
   "display_name": "Python 3",
   "language": "python",
   "name": "python3"
  },
  "language_info": {
   "codemirror_mode": {
    "name": "ipython",
    "version": 3
   },
   "file_extension": ".py",
   "mimetype": "text/x-python",
   "name": "python",
   "nbconvert_exporter": "python",
   "pygments_lexer": "ipython3",
   "version": "3.7.7"
  }
 },
 "nbformat": 4,
 "nbformat_minor": 4
}
