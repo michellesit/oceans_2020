{
 "cells": [
  {
   "cell_type": "code",
   "execution_count": 2,
   "metadata": {},
   "outputs": [],
   "source": [
    "import sys\n",
    "from collections import defaultdict\n",
    "import xlrd\n",
    "import gurobipy as gp\n",
    "from gurobipy import GRB\n",
    "\n",
    "import numpy as np\n",
    "import math\n",
    "\n",
    "np.random.seed(248745)"
   ]
  },
  {
   "cell_type": "code",
   "execution_count": 3,
   "metadata": {},
   "outputs": [],
   "source": [
    "class Hotspot():\n",
    "    def __init__(self, number, profits, area, uuv_obs_rate):\n",
    "        self.number = number\n",
    "        self.profits = profits\n",
    "        self.area = area\n",
    "        self.lam = uuv_obs_rate/area"
   ]
  },
  {
   "cell_type": "markdown",
   "metadata": {},
   "source": [
    "##Table of expected profits\n",
    "\n",
    "\n",
    "##Table of approximate path costs for now\n",
    " "
   ]
  },
  {
   "cell_type": "code",
   "execution_count": 134,
   "metadata": {},
   "outputs": [],
   "source": [
    "##import all hotspot to hotspot travel time over all time intervals\n",
    "with open('./../santa_monica_energy_costs.npy', 'rb') as f:\n",
    "    transit_times = np.load(f)\n",
    "    \n",
    "# transit_times = np.random.randint(0, 1000, size=(7,7,1))\n",
    "\n",
    "##build all the hotspot data\n",
    "uuv_obs_rate = (5**2)*math.pi #arbitrarily selected observation rate\n",
    "all_hotspots = [Hotspot(0, 0, 0.1, uuv_obs_rate), ##This is the init position\n",
    "                Hotspot(1, np.random.randint(0,100), np.random.randint(500,2500), uuv_obs_rate),\n",
    "                Hotspot(2, np.random.randint(0,100), np.random.randint(500,2500), uuv_obs_rate),\n",
    "                Hotspot(3, np.random.randint(0,100), np.random.randint(500,2500), uuv_obs_rate),\n",
    "                Hotspot(4, np.random.randint(0,100), np.random.randint(500,2500), uuv_obs_rate),\n",
    "                Hotspot(5, np.random.randint(0,100), np.random.randint(500,2500), uuv_obs_rate),\n",
    "                Hotspot(6, np.random.randint(0,100), np.random.randint(500,2500), uuv_obs_rate),\n",
    "                ]"
   ]
  },
  {
   "cell_type": "code",
   "execution_count": 135,
   "metadata": {},
   "outputs": [
    {
     "data": {
      "text/plain": [
       "(6, 6, 144)"
      ]
     },
     "execution_count": 135,
     "metadata": {},
     "output_type": "execute_result"
    }
   ],
   "source": [
    "transit_times.shape"
   ]
  },
  {
   "cell_type": "code",
   "execution_count": 102,
   "metadata": {},
   "outputs": [],
   "source": [
    "transit_times.shape\n",
    "\n",
    "transit_dict = {}\n",
    "for i in range(len(all_hotspots)):\n",
    "    for j in range(len(all_hotspots)):\n",
    "        transit_dict[(str(i),str(j))] = transit_times[i,j,0]"
   ]
  },
  {
   "cell_type": "code",
   "execution_count": 79,
   "metadata": {},
   "outputs": [],
   "source": [
    "##Callback - use lazy constraints to eliminate subtours\n",
    "##Stolen from the Gurobi TSP example\n",
    "\n",
    "def subtourelim(model, where):\n",
    "    if where == GRB.Callback.MIPSOL:\n",
    "        # make a list of edges selected in the solution\n",
    "        vals = model.cbGetSolution(model._vars)\n",
    "        selected = gp.tuplelist((i, j) for i, j in model._vars.keys()\n",
    "                             if vals[i, j] > 0.5)\n",
    "        # find the shortest cycle in the selected edge list\n",
    "        tour = subtour(selected)\n",
    "        if len(tour) < len(capitals):\n",
    "            # add subtour elimination constr. for every pair of cities in subtour\n",
    "            model.cbLazy(gp.quicksum(model._vars[i, j] for i, j in combinations(tour, 2))\n",
    "                         <= len(tour)-1)"
   ]
  },
  {
   "cell_type": "markdown",
   "metadata": {},
   "source": [
    "## Objective Function\n",
    "$$\\max \\sum_{i=1}^{N-1} \\sum_{j=2}^{N} (P_i x_{ij} - t_{ij} x_{ij}) $$\n",
    "\n",
    "Where:\n",
    "\n",
    "$P_i$ = profit at each hotspot, given by the equation $f(t_i) = 1 - \\exp^{-\\lambda t_i}$\n",
    "\n",
    "A profit of 0 is associated with nodes 1 and N. Make this the starting point.\n",
    "\n",
    "$\\lambda_i$ = sensory learning rate, given by $\\frac{obs_r^2 \\pi}{A_i}$, where $obs_r^2 \\pi$ = UUV sensing rate, and $A_i$ = area of hotspot\n",
    "\n",
    "$x_{ij}$ = binary, 1 if a visit to hotspot $i$ is followed by a visit to hotspot $j$\n",
    "\n",
    "$t_{ij}$ = Non-negative travel cost between hotspots $i$ and $j$\n",
    "\n",
    "## Constraints\n",
    "\n",
    "Ensures the route starts from node 1:\n",
    "\n",
    "$$\\sum_{j=2}^{N} x_{1j} = \\sum_{i=1}^{N-1} x_{iN}= 1$$\n",
    "\n",
    "Ensures the connectivity of the route and that each onde is visited at most once:\n",
    "\n",
    "$$\\sum_{i=1}^{N-1} x_{ik} = \\sum_{j=2}^{N} x_{kj} \\leq 1; \\forall k = 2, \\dots, (N-1)$$\n",
    "\n",
    "Prevents subtours:\n",
    "\n",
    "$$2 \\leq u_i \\leq N; \\forall i = 2, ..., N$$\n",
    "\n",
    "$$u_i - u_j + 1 \\leq (N - 1)(1 - x_{ij}); \\forall j = 2, ..., N$$"
   ]
  },
  {
   "cell_type": "code",
   "execution_count": 99,
   "metadata": {},
   "outputs": [
    {
     "data": {
      "text/plain": [
       "{('0', '0'): 750,\n",
       " ('0', '1'): 297,\n",
       " ('0', '2'): 756,\n",
       " ('0', '3'): 569,\n",
       " ('0', '4'): 492,\n",
       " ('0', '5'): 338,\n",
       " ('1', '0'): 127,\n",
       " ('1', '1'): 701,\n",
       " ('1', '2'): 920,\n",
       " ('1', '3'): 99,\n",
       " ('1', '4'): 768,\n",
       " ('1', '5'): 657,\n",
       " ('2', '0'): 816,\n",
       " ('2', '1'): 767,\n",
       " ('2', '2'): 960,\n",
       " ('2', '3'): 489,\n",
       " ('2', '4'): 583,\n",
       " ('2', '5'): 501,\n",
       " ('3', '0'): 183,\n",
       " ('3', '1'): 127,\n",
       " ('3', '2'): 286,\n",
       " ('3', '3'): 644,\n",
       " ('3', '4'): 175,\n",
       " ('3', '5'): 424,\n",
       " ('4', '0'): 884,\n",
       " ('4', '1'): 200,\n",
       " ('4', '2'): 582,\n",
       " ('4', '3'): 355,\n",
       " ('4', '4'): 232,\n",
       " ('4', '5'): 906,\n",
       " ('5', '0'): 158,\n",
       " ('5', '1'): 17,\n",
       " ('5', '2'): 963,\n",
       " ('5', '3'): 894,\n",
       " ('5', '4'): 553,\n",
       " ('5', '5'): 612}"
      ]
     },
     "execution_count": 99,
     "metadata": {},
     "output_type": "execute_result"
    }
   ],
   "source": [
    "transit_dict"
   ]
  },
  {
   "cell_type": "code",
   "execution_count": 110,
   "metadata": {},
   "outputs": [],
   "source": [
    "hotspot_idx = [k.number for k in all_hotspots]\n",
    "hotspot_profits = [k.profits for k in all_hotspots]\n",
    "\n",
    "\n",
    "model = gp.Model(\"basic_op\")\n",
    "\n",
    "##x_ij boolean is whehter the hotspot i to j (bool) has been taken\n",
    "x = model.addVars(transit_dict.keys(), vtype=GRB.BINARY, name=\"hotspot_visited\")\n",
    "\n",
    "##t_i is a float value that explains how much time is spent at each node\n",
    "t = model.addVars(hotspot_idx, lb=0, ub=200, vtype=GRB.CONTINUOUS, name=\"time_at_node\")\n",
    "\n",
    "##t_ij boolean is whether the path from i to j was taken\n",
    "# t = model.addVars(transit_dict.keys(), vtype=GRB.BINARY, name=\"path_taken\")\n",
    "\n",
    "##Constraints\n",
    "##Route starts from node 0\n",
    "model.addConstr(gp.quicksum( [x[str(0), str(j)] for j in range(1, len(hotspot_idx))]) == 1) \n",
    "\n",
    "model.addConstr(gp.quicksum( [x[str(j), str(0)] for j in range(1, len(hotspot_idx))]) == 1)\n",
    "\n",
    "\n",
    "##Route connectivity and nodes are visited only once\n",
    "for k in range(1, len(all_hotspots)-1):\n",
    "    one = gp.quicksum( [x[str(i), str(k)] for i in range(0, len(all_hotspots)-1)] )\n",
    "    two = gp.quicksum( [x[str(k), str(j)] for j in range(1, len(all_hotspots))]) \n",
    "    model.addConstr(one == two)\n",
    "    model.addConstr(one <= 1)\n",
    "\n",
    "##subtour constraints\n",
    "##See callback function above\n",
    "\n",
    "\n",
    "##Objective function\n",
    "y = model.addVars(hotspot_idx, vtype=GRB.CONTINUOUS, name=\"exp_value\")\n",
    "for i in hotspot_idx:\n",
    "    ex = model.addGenConstrPWL(t[i], y[i], np.arange(0, 200), np.exp(-hotspot_profits[i] * np.arange(0, 200))\n",
    "                            )\n",
    "\n",
    "all_profits = []\n",
    "all_paths = []\n",
    "for i in range(1, len(hotspot_idx)-1):\n",
    "    for j in range(2, len(hotspot_idx)):\n",
    "#         time_spent = (1 - y[i])  * x[str(i),str(j)]\n",
    "        time_spent = 1 + t[i]*50\n",
    "        all_profits.append(time_spent)\n",
    "        \n",
    "        paths_cost = transit_dict[str(i),str(j)] * x[str(i), str(j)]\n",
    "        all_paths.append(paths_cost)\n",
    "        \n",
    "model.setObjective(gp.quicksum(all_profits + all_paths)\n",
    "                  )"
   ]
  },
  {
   "cell_type": "code",
   "execution_count": 111,
   "metadata": {},
   "outputs": [
    {
     "name": "stdout",
     "output_type": "stream",
     "text": [
      "Gurobi Optimizer version 9.0.2 build v9.0.2rc0 (linux64)\n",
      "Optimize a model with 12 rows, 63 columns and 92 nonzeros\n",
      "Model fingerprint: 0xb807bd03\n",
      "Model has 7 general constraints\n",
      "Variable types: 14 continuous, 49 integer (49 binary)\n",
      "Coefficient statistics:\n",
      "  Matrix range     [1e+00, 1e+00]\n",
      "  Objective range  [7e+00, 1e+03]\n",
      "  Bounds range     [1e+00, 2e+02]\n",
      "  RHS range        [1e+00, 1e+00]\n",
      "Presolve added 0 rows and 138 columns\n",
      "Presolve removed 10 rows and 0 columns\n",
      "Presolve time: 0.01s\n",
      "Presolved: 2 rows, 201 columns, 400 nonzeros\n",
      "Presolved model has 1 SOS constraint(s)\n",
      "Variable types: 201 continuous, 0 integer (0 binary)\n",
      "\n",
      "Root relaxation: objective 2.500000e+01, 1 iterations, 0.00 seconds\n",
      "\n",
      "    Nodes    |    Current Node    |     Objective Bounds      |     Work\n",
      " Expl Unexpl |  Obj  Depth IntInf | Incumbent    BestBd   Gap | It/Node Time\n",
      "\n",
      "*    0     0               0      25.0000000   25.00000  0.00%     -    0s\n",
      "\n",
      "Explored 0 nodes (1 simplex iterations) in 0.03 seconds\n",
      "Thread count was 16 (of 16 available processors)\n",
      "\n",
      "Solution count 1: 25 \n",
      "\n",
      "Optimal solution found (tolerance 1.00e-04)\n",
      "Best objective 2.500000000000e+01, best bound 2.500000000000e+01, gap 0.0000%\n"
     ]
    }
   ],
   "source": [
    "model._vars = [x,y,t]\n",
    "model.optimize()"
   ]
  },
  {
   "cell_type": "code",
   "execution_count": 91,
   "metadata": {},
   "outputs": [
    {
     "name": "stdout",
     "output_type": "stream",
     "text": [
      "Changed value of parameter lazyConstraints to 1\n",
      "   Prev: 0  Min: 0  Max: 1  Default: 0\n",
      "Gurobi Optimizer version 9.0.2 build v9.0.2rc0 (linux64)\n",
      "Optimize a model with 11 rows, 50 columns and 76 nonzeros\n",
      "Model fingerprint: 0x6e4204ba\n",
      "Model has 25 quadratic objective terms\n",
      "Model has 7 general constraints\n",
      "Variable types: 14 continuous, 36 integer (36 binary)\n",
      "Coefficient statistics:\n",
      "  Matrix range     [1e+00, 1e+00]\n",
      "  Objective range  [1e+00, 1e+08]\n",
      "  QObjective range [2e+00, 2e+00]\n",
      "  Bounds range     [1e+00, 2e+02]\n",
      "  RHS range        [1e+00, 1e+00]\n",
      "Presolve added 19 rows and 1398 columns\n",
      "Presolve time: 0.00s\n",
      "Presolved: 55 rows, 1473 columns, 2963 nonzeros\n",
      "Presolved model has 7 SOS constraint(s)\n",
      "Variable types: 1437 continuous, 36 integer (36 binary)\n"
     ]
    },
    {
     "ename": "AttributeError",
     "evalue": "'tupledict' object has no attribute 'indexed_data'",
     "output_type": "error",
     "traceback": [
      "\u001b[0;31m---------------------------------------------------------------------------\u001b[0m",
      "\u001b[0;31mAttributeError\u001b[0m                            Traceback (most recent call last)",
      "\u001b[0;32mcallback.pxi\u001b[0m in \u001b[0;36mgurobipy.CallbackClass.callback\u001b[0;34m()\u001b[0m\n",
      "\u001b[0;32m<ipython-input-79-b9616c218ab7>\u001b[0m in \u001b[0;36msubtourelim\u001b[0;34m(model, where)\u001b[0m\n\u001b[1;32m      5\u001b[0m     \u001b[0;32mif\u001b[0m \u001b[0mwhere\u001b[0m \u001b[0;34m==\u001b[0m \u001b[0mGRB\u001b[0m\u001b[0;34m.\u001b[0m\u001b[0mCallback\u001b[0m\u001b[0;34m.\u001b[0m\u001b[0mMIPSOL\u001b[0m\u001b[0;34m:\u001b[0m\u001b[0;34m\u001b[0m\u001b[0;34m\u001b[0m\u001b[0m\n\u001b[1;32m      6\u001b[0m         \u001b[0;31m# make a list of edges selected in the solution\u001b[0m\u001b[0;34m\u001b[0m\u001b[0;34m\u001b[0m\u001b[0;34m\u001b[0m\u001b[0m\n\u001b[0;32m----> 7\u001b[0;31m         \u001b[0mvals\u001b[0m \u001b[0;34m=\u001b[0m \u001b[0mmodel\u001b[0m\u001b[0;34m.\u001b[0m\u001b[0mcbGetSolution\u001b[0m\u001b[0;34m(\u001b[0m\u001b[0mmodel\u001b[0m\u001b[0;34m.\u001b[0m\u001b[0m_vars\u001b[0m\u001b[0;34m)\u001b[0m\u001b[0;34m\u001b[0m\u001b[0;34m\u001b[0m\u001b[0m\n\u001b[0m\u001b[1;32m      8\u001b[0m         selected = gp.tuplelist((i, j) for i, j in model._vars.keys()\n\u001b[1;32m      9\u001b[0m                              if vals[i, j] > 0.5)\n",
      "\u001b[0;32mmodel.pxi\u001b[0m in \u001b[0;36mgurobipy.Model.cbGetSolution\u001b[0;34m()\u001b[0m\n",
      "\u001b[0;32mmodel.pxi\u001b[0m in \u001b[0;36mgurobipy.Model._map_coldata_to_vars\u001b[0;34m()\u001b[0m\n",
      "\u001b[0;31mAttributeError\u001b[0m: 'tupledict' object has no attribute 'indexed_data'"
     ]
    },
    {
     "name": "stdout",
     "output_type": "stream",
     "text": [
      "Found heuristic solution: objective 0.0000000\n",
      "\n",
      "Explored 0 nodes (0 simplex iterations) in 0.03 seconds\n",
      "Thread count was 16 (of 16 available processors)\n",
      "\n",
      "Solution count 1: 0 \n",
      "\n",
      "Optimal solution found (tolerance 1.00e-04)\n",
      "Best objective 0.000000000000e+00, best bound 0.000000000000e+00, gap 0.0000%\n",
      "\n",
      "User-callback calls 42, time in user-callback 0.01 sec\n"
     ]
    },
    {
     "name": "stderr",
     "output_type": "stream",
     "text": [
      "Exception ignored in: 'gurobipy.callbackstub'\n",
      "Traceback (most recent call last):\n",
      "  File \"callback.pxi\", line 180, in gurobipy.CallbackClass.callback\n",
      "  File \"<ipython-input-79-b9616c218ab7>\", line 7, in subtourelim\n",
      "  File \"model.pxi\", line 5935, in gurobipy.Model.cbGetSolution\n",
      "  File \"model.pxi\", line 5894, in gurobipy.Model._map_coldata_to_vars\n",
      "AttributeError: 'tupledict' object has no attribute 'indexed_data'\n"
     ]
    }
   ],
   "source": [
    "model._vars = [x, y, t]\n",
    "model.Params.lazyConstraints = 1\n",
    "model.optimize(subtourelim)"
   ]
  },
  {
   "cell_type": "code",
   "execution_count": 112,
   "metadata": {},
   "outputs": [
    {
     "data": {
      "text/plain": [
       "[<gurobi.Var hotspot_visited[0,0] (value 0.0)>,\n",
       " <gurobi.Var hotspot_visited[0,1] (value -0.0)>,\n",
       " <gurobi.Var hotspot_visited[0,2] (value -0.0)>,\n",
       " <gurobi.Var hotspot_visited[0,3] (value -0.0)>,\n",
       " <gurobi.Var hotspot_visited[0,4] (value -0.0)>,\n",
       " <gurobi.Var hotspot_visited[0,5] (value -0.0)>,\n",
       " <gurobi.Var hotspot_visited[0,6] (value 1.0)>,\n",
       " <gurobi.Var hotspot_visited[1,0] (value 1.0)>,\n",
       " <gurobi.Var hotspot_visited[1,1] (value 0.0)>,\n",
       " <gurobi.Var hotspot_visited[1,2] (value -0.0)>,\n",
       " <gurobi.Var hotspot_visited[1,3] (value -0.0)>,\n",
       " <gurobi.Var hotspot_visited[1,4] (value -0.0)>,\n",
       " <gurobi.Var hotspot_visited[1,5] (value -0.0)>,\n",
       " <gurobi.Var hotspot_visited[1,6] (value -0.0)>,\n",
       " <gurobi.Var hotspot_visited[2,0] (value 0.0)>,\n",
       " <gurobi.Var hotspot_visited[2,1] (value -0.0)>,\n",
       " <gurobi.Var hotspot_visited[2,2] (value 0.0)>,\n",
       " <gurobi.Var hotspot_visited[2,3] (value -0.0)>,\n",
       " <gurobi.Var hotspot_visited[2,4] (value -0.0)>,\n",
       " <gurobi.Var hotspot_visited[2,5] (value -0.0)>,\n",
       " <gurobi.Var hotspot_visited[2,6] (value -0.0)>,\n",
       " <gurobi.Var hotspot_visited[3,0] (value 0.0)>,\n",
       " <gurobi.Var hotspot_visited[3,1] (value -0.0)>,\n",
       " <gurobi.Var hotspot_visited[3,2] (value -0.0)>,\n",
       " <gurobi.Var hotspot_visited[3,3] (value 0.0)>,\n",
       " <gurobi.Var hotspot_visited[3,4] (value -0.0)>,\n",
       " <gurobi.Var hotspot_visited[3,5] (value -0.0)>,\n",
       " <gurobi.Var hotspot_visited[3,6] (value -0.0)>,\n",
       " <gurobi.Var hotspot_visited[4,0] (value 0.0)>,\n",
       " <gurobi.Var hotspot_visited[4,1] (value -0.0)>,\n",
       " <gurobi.Var hotspot_visited[4,2] (value -0.0)>,\n",
       " <gurobi.Var hotspot_visited[4,3] (value -0.0)>,\n",
       " <gurobi.Var hotspot_visited[4,4] (value 0.0)>,\n",
       " <gurobi.Var hotspot_visited[4,5] (value -0.0)>,\n",
       " <gurobi.Var hotspot_visited[4,6] (value -0.0)>,\n",
       " <gurobi.Var hotspot_visited[5,0] (value 0.0)>,\n",
       " <gurobi.Var hotspot_visited[5,1] (value -0.0)>,\n",
       " <gurobi.Var hotspot_visited[5,2] (value -0.0)>,\n",
       " <gurobi.Var hotspot_visited[5,3] (value -0.0)>,\n",
       " <gurobi.Var hotspot_visited[5,4] (value -0.0)>,\n",
       " <gurobi.Var hotspot_visited[5,5] (value 0.0)>,\n",
       " <gurobi.Var hotspot_visited[5,6] (value -0.0)>,\n",
       " <gurobi.Var hotspot_visited[6,0] (value 0.0)>,\n",
       " <gurobi.Var hotspot_visited[6,1] (value 0.0)>,\n",
       " <gurobi.Var hotspot_visited[6,2] (value 0.0)>,\n",
       " <gurobi.Var hotspot_visited[6,3] (value 0.0)>,\n",
       " <gurobi.Var hotspot_visited[6,4] (value 0.0)>,\n",
       " <gurobi.Var hotspot_visited[6,5] (value 0.0)>,\n",
       " <gurobi.Var hotspot_visited[6,6] (value 0.0)>,\n",
       " <gurobi.Var time_at_node[0] (value 200.0)>,\n",
       " <gurobi.Var time_at_node[1] (value 0.0)>,\n",
       " <gurobi.Var time_at_node[2] (value 0.0)>,\n",
       " <gurobi.Var time_at_node[3] (value 0.0)>,\n",
       " <gurobi.Var time_at_node[4] (value 0.0)>,\n",
       " <gurobi.Var time_at_node[5] (value 0.0)>,\n",
       " <gurobi.Var time_at_node[6] (value 200.0)>,\n",
       " <gurobi.Var exp_value[0] (value 1.0)>,\n",
       " <gurobi.Var exp_value[1] (value 1.0)>,\n",
       " <gurobi.Var exp_value[2] (value 1.0)>,\n",
       " <gurobi.Var exp_value[3] (value 1.0)>,\n",
       " <gurobi.Var exp_value[4] (value 1.0)>,\n",
       " <gurobi.Var exp_value[5] (value 1.0)>,\n",
       " <gurobi.Var exp_value[6] (value 0.0)>]"
      ]
     },
     "execution_count": 112,
     "metadata": {},
     "output_type": "execute_result"
    }
   ],
   "source": [
    "model.getVars()"
   ]
  },
  {
   "cell_type": "code",
   "execution_count": 85,
   "metadata": {},
   "outputs": [
    {
     "data": {
      "text/plain": [
       "{('1', '1'): 1.0,\n",
       " ('1', '2'): 0.0,\n",
       " ('1', '3'): 0.0,\n",
       " ('1', '4'): 0.0,\n",
       " ('1', '5'): 0.0,\n",
       " ('1', '6'): 0.0,\n",
       " ('2', '1'): 0.0,\n",
       " ('2', '2'): 0.0,\n",
       " ('2', '3'): 0.0,\n",
       " ('2', '4'): 0.0,\n",
       " ('2', '5'): 0.0,\n",
       " ('2', '6'): 0.0,\n",
       " ('3', '1'): 0.0,\n",
       " ('3', '2'): 0.0,\n",
       " ('3', '3'): 0.0,\n",
       " ('3', '4'): 0.0,\n",
       " ('3', '5'): 0.0,\n",
       " ('3', '6'): 0.0,\n",
       " ('4', '1'): 0.0,\n",
       " ('4', '2'): 0.0,\n",
       " ('4', '3'): 0.0,\n",
       " ('4', '4'): 0.0,\n",
       " ('4', '5'): 0.0,\n",
       " ('4', '6'): 0.0,\n",
       " ('5', '1'): 0.0,\n",
       " ('5', '2'): 0.0,\n",
       " ('5', '3'): 0.0,\n",
       " ('5', '4'): 0.0,\n",
       " ('5', '5'): 0.0,\n",
       " ('5', '6'): 0.0,\n",
       " ('6', '1'): 0.0,\n",
       " ('6', '2'): 0.0,\n",
       " ('6', '3'): 0.0,\n",
       " ('6', '4'): 0.0,\n",
       " ('6', '5'): 0.0,\n",
       " ('6', '6'): 0.0}"
      ]
     },
     "execution_count": 85,
     "metadata": {},
     "output_type": "execute_result"
    }
   ],
   "source": [
    "model.getAttr('x', x)"
   ]
  },
  {
   "cell_type": "code",
   "execution_count": 86,
   "metadata": {},
   "outputs": [
    {
     "ename": "AttributeError",
     "evalue": "'gurobipy.Model' object has no attribute 't'",
     "output_type": "error",
     "traceback": [
      "\u001b[0;31m---------------------------------------------------------------------------\u001b[0m",
      "\u001b[0;31mAttributeError\u001b[0m                            Traceback (most recent call last)",
      "\u001b[0;32m<ipython-input-86-44e1b97c1fe8>\u001b[0m in \u001b[0;36m<module>\u001b[0;34m\u001b[0m\n\u001b[0;32m----> 1\u001b[0;31m \u001b[0mmodel\u001b[0m\u001b[0;34m.\u001b[0m\u001b[0mgetAttr\u001b[0m\u001b[0;34m(\u001b[0m\u001b[0;34m\"t\"\u001b[0m\u001b[0;34m,\u001b[0m \u001b[0mt\u001b[0m\u001b[0;34m)\u001b[0m\u001b[0;34m\u001b[0m\u001b[0;34m\u001b[0m\u001b[0m\n\u001b[0m",
      "\u001b[0;32mmodel.pxi\u001b[0m in \u001b[0;36mgurobipy.Model.getAttr\u001b[0;34m()\u001b[0m\n",
      "\u001b[0;32mattrutil.pxi\u001b[0m in \u001b[0;36mgurobipy.__getattrinfo\u001b[0;34m()\u001b[0m\n",
      "\u001b[0;31mAttributeError\u001b[0m: 'gurobipy.Model' object has no attribute 't'"
     ]
    }
   ],
   "source": [
    "model.getAttr(\"t\", t)"
   ]
  },
  {
   "cell_type": "code",
   "execution_count": null,
   "metadata": {},
   "outputs": [],
   "source": []
  },
  {
   "cell_type": "code",
   "execution_count": null,
   "metadata": {},
   "outputs": [],
   "source": []
  },
  {
   "cell_type": "code",
   "execution_count": 129,
   "metadata": {},
   "outputs": [
    {
     "name": "stdout",
     "output_type": "stream",
     "text": [
      "Gurobi Optimizer version 9.0.2 build v9.0.2rc0 (linux64)\n",
      "Optimize a model with 24 rows, 19 columns and 54 nonzeros\n",
      "Model fingerprint: 0x86e4422f\n",
      "Variable types: 0 continuous, 19 integer (16 binary)\n",
      "Coefficient statistics:\n",
      "  Matrix range     [1e+00, 1e+02]\n",
      "  Objective range  [1e+00, 1e+00]\n",
      "  Bounds range     [1e+00, 1e+00]\n",
      "  RHS range        [1e+00, 1e+02]\n",
      "Found heuristic solution: objective 2.0000000\n",
      "Presolve removed 24 rows and 19 columns\n",
      "Presolve time: 0.00s\n",
      "Presolve: All rows and columns removed\n",
      "\n",
      "Explored 0 nodes (0 simplex iterations) in 0.01 seconds\n",
      "Thread count was 1 (of 16 available processors)\n",
      "\n",
      "Solution count 1: 2 \n",
      "\n",
      "Optimal solution found (tolerance 1.00e-04)\n",
      "Best objective 2.000000000000e+00, best bound 2.000000000000e+00, gap 0.0000%\n",
      "{(0, 0): 0.0, (0, 1): 0.0, (0, 2): 1.0, (0, 3): 0.0, (1, 0): 0.0, (1, 1): 0.0, (1, 2): 0.0, (1, 3): 1.0, (2, 0): 0.0, (2, 1): 1.0, (2, 2): 0.0, (2, 3): 0.0, (3, 0): 0.0, (3, 1): 0.0, (3, 2): 0.0, (3, 3): 0.0}\n"
     ]
    }
   ],
   "source": [
    "import random\n",
    "import gurobipy as grb\n",
    "import math\n",
    "\n",
    "n = 4\n",
    "# Distance = 50000000\n",
    "Distance = 100\n",
    "\n",
    "def distance(points, i, j):\n",
    "  dx = points[i][0] - points[j][0]\n",
    "  dy = points[i][1] - points[j][1]\n",
    "  return math.sqrt(dx*dx + dy*dy)\n",
    "\n",
    "random.seed(1)\n",
    "points = []\n",
    "for i in range(n):\n",
    "  points.append((random.randint(0,100),random.randint(0,100)))\n",
    "\n",
    "\n",
    "opt_model = grb.Model(name=\"MILP Model\")\n",
    "\n",
    "# <= Variables\n",
    "x_vars = {}\n",
    "for i in range(n):\n",
    "   for j in range(n):\n",
    "     x_vars[i,j] = opt_model.addVar(vtype=grb.GRB.BINARY,\n",
    "                          name='e'+str(i)+'_'+str(j))\n",
    "u={}\n",
    "for i in range(1,n):\n",
    "    u[i]=opt_model.addVar(vtype=grb.GRB.INTEGER,\n",
    "                          name='e'+str(i))\n",
    "\n",
    "# <= Constraint (Mandatory Edges and excluding vertexes) Eq(1)\n",
    "\n",
    "\n",
    "opt_model.addConstr((grb.quicksum(x_vars[1,j] for j in range(1,n)))  == 1)\n",
    "opt_model.addConstr((grb.quicksum(x_vars[i,n-1] for i in range(n-1)))  == 1)\n",
    "# opt_model.addConstr((grb.quicksum(x_vars[i,i] for i in range(n-1)))  == 0)\n",
    "# <= Constraint (Distance) Eq(3)\n",
    "\n",
    "for i in range(n-1):\n",
    "  opt_model.addConstr(grb.quicksum(x_vars[i,j]*distance(points, i, j) for j in range(1,n)) <= Distance)\n",
    "\n",
    "\n",
    "\n",
    "# <= Constraint (Equality & Single edge in and out) Eq(2)\n",
    "\n",
    "for k in range(1, n-1):\n",
    "#   opt_model.addConstr(grb.quicksum(x_vars[i,k] for i in range(n-1))\n",
    "#                       == grb.quicksum(x_vars[k,j] for j in range(1, n)) <=1)\n",
    "\n",
    "    one = grb.quicksum(x_vars[i,k] for i in range(n-1))\n",
    "    two = grb.quicksum(x_vars[k,j] for j in range(1, n))\n",
    "    opt_model.addConstr(one == two)\n",
    "    opt_model.addConstr(one <= 1)\n",
    "\n",
    "# <= Constraint (Subtour elimination) Eq(4) Eq(5)\n",
    "\n",
    "for i in range(1,n):\n",
    "    opt_model.addConstr(2 <= u[i])\n",
    "    opt_model.addConstr(u[i] <= n)\n",
    "#   opt_model.addConstr(2 <= u[i] <= n)\n",
    "\n",
    "for i in range(1,n):\n",
    "    for j in range(1,n):\n",
    "        opt_model.addConstr((u[i] - u[j] +1 <= (n-1)*(1-x_vars[j,i])))\n",
    "\n",
    "# <= objective (maximize) Eq(1)\n",
    "\n",
    "objective = grb.quicksum(x_vars[i,j]\n",
    "                         for i in range(1, n-1)\n",
    "                         for j in range(1, n))\n",
    "\n",
    "opt_model.ModelSense = grb.GRB.MAXIMIZE\n",
    "opt_model.setObjective(objective)\n",
    "opt_model.optimize()\n",
    "\n",
    "\n",
    "opt_model.update()\n",
    "# opt_model.computeIIS()\n",
    "# opt_model.write(\"model.ilp\")\n",
    "solution = opt_model.getAttr('x', x_vars )\n",
    "\n",
    "print (solution)"
   ]
  },
  {
   "cell_type": "code",
   "execution_count": 130,
   "metadata": {},
   "outputs": [],
   "source": [
    "select = grb.tuplelist((i,j) for i,j in x_vars.keys() if x_vars[i,j].X > 0.5)"
   ]
  },
  {
   "cell_type": "code",
   "execution_count": 131,
   "metadata": {},
   "outputs": [
    {
     "data": {
      "text/plain": [
       "<gurobi.tuplelist (3 tuples, 2 values each):\n",
       " ( 0 , 2 )\n",
       " ( 1 , 3 )\n",
       " ( 2 , 1 )\n",
       ">"
      ]
     },
     "execution_count": 131,
     "metadata": {},
     "output_type": "execute_result"
    }
   ],
   "source": [
    "select"
   ]
  },
  {
   "cell_type": "code",
   "execution_count": 122,
   "metadata": {},
   "outputs": [
    {
     "data": {
      "text/plain": [
       "[(17, 72), (97, 8), (32, 15), (63, 97)]"
      ]
     },
     "execution_count": 122,
     "metadata": {},
     "output_type": "execute_result"
    }
   ],
   "source": [
    "points"
   ]
  },
  {
   "cell_type": "code",
   "execution_count": 128,
   "metadata": {},
   "outputs": [
    {
     "name": "stdout",
     "output_type": "stream",
     "text": [
      "255.48995608942263\n"
     ]
    }
   ],
   "source": [
    "total = distance(points, 0,1) + distance(points, 1,2) + distance(points, 2, 3)\n",
    "print (total)"
   ]
  },
  {
   "cell_type": "code",
   "execution_count": 132,
   "metadata": {},
   "outputs": [
    {
     "name": "stdout",
     "output_type": "stream",
     "text": [
      "219.58977574350132\n"
     ]
    }
   ],
   "source": [
    "total = distance(points, 0,2) + distance(points, 1,3) + distance(points, 2, 1)\n",
    "print (total)"
   ]
  },
  {
   "cell_type": "code",
   "execution_count": null,
   "metadata": {},
   "outputs": [],
   "source": [
    "import random\n",
    "import gurobipy as grb\n",
    "\n",
    "n = 4\n",
    "Distance = 50000000\n",
    "\n",
    "def distance(points, i, j):\n",
    "  dx = points[i][0] - points[j][0]\n",
    "  dy = points[i][1] - points[j][1]\n",
    "  return math.sqrt(dx*dx + dy*dy)\n",
    "\n",
    "random.seed(1)\n",
    "points = []\n",
    "for i in range(n):\n",
    "  points.append((random.randint(0,100),random.randint(0,100)))\n",
    "\n",
    "\n",
    "opt_model = grb.Model(name=\"MILP Model\")\n",
    "\n",
    "# <= Variables\n",
    "x_vars = {}\n",
    "for i in range(n):\n",
    "   for j in range(n):\n",
    "     x_vars[i,j] = opt_model.addVar(vtype=grb.GRB.BINARY,\n",
    "                          name='e'+str(i)+'_'+str(j))\n",
    "u={}\n",
    "for i in range(1,n):\n",
    "    u[i]=opt_model.addVar(vtype=grb.GRB.INTEGER,\n",
    "                          name='e'+str(i))\n",
    "\n",
    "# <= Constraint (Mandatory Edges and excluding vertexes) Eq(1)\n",
    "\n",
    "\n",
    "opt_model.addConstr((grb.quicksum(x_vars[1,j] for j in range(1,n)))  == 1)\n",
    "opt_model.addConstr((grb.quicksum(x_vars[i,n-1] for i in range(n-1)))  == 1)\n",
    "# opt_model.addConstr((grb.quicksum(x_vars[i,i] for i in range(n-1)))  == 0)\n",
    "# <= Constraint (Distance) Eq(3)\n",
    "\n",
    "for i in range(n-1):\n",
    "  opt_model.addConstr(grb.quicksum(x_vars[i,j]*distance(points, i, j) for j in range(1,n)) <= Distance)\n",
    "\n",
    "\n",
    "\n",
    "# <= Constraint (Equality & Single edge in and out) Eq(2)\n",
    "\n",
    "for k in range(1, n-1):\n",
    "#   opt_model.addConstr(grb.quicksum(x_vars[i,k] for i in range(n-1))\n",
    "#                       == grb.quicksum(x_vars[k,j] for j in range(1, n)) <=1)\n",
    "\n",
    "    one = grb.quicksum(x_vars[i,k] for i in range(n-1))\n",
    "    two = grb.quicksum(x_vars[k,j] for j in range(1, n))\n",
    "    opt_model.addConstr(one == two)\n",
    "    opt_model.addConstr(one <= 1)\n",
    "\n",
    "# <= Constraint (Subtour elimination) Eq(4) Eq(5)\n",
    "\n",
    "for i in range(1,n):\n",
    "    opt_model.addConstr(2 <= u[i])\n",
    "    opt_model.addConstr(u[i] <= n)\n",
    "#   opt_model.addConstr(2 <= u[i] <= n)\n",
    "\n",
    "for i in range(1,n):\n",
    "    for j in range(1,n):\n",
    "        opt_model.addConstr((u[i] - u[j] +1 <= (n-1)*(1-x_vars[j,i])))\n",
    "\n",
    "# <= objective (maximize) Eq(1)\n",
    "\n",
    "objective = grb.quicksum(x_vars[i,j]\n",
    "                         for i in range(1, n-1)\n",
    "                         for j in range(1, n))\n",
    "\n",
    "opt_model.ModelSense = grb.GRB.MAXIMIZE\n",
    "opt_model.setObjective(objective)\n",
    "opt_model.optimize()\n",
    "\n",
    "\n",
    "opt_model.update()\n",
    "# opt_model.computeIIS()\n",
    "# opt_model.write(\"model.ilp\")\n",
    "solution = opt_model.getAttr('x', x_vars )\n",
    "\n",
    "print (solution)"
   ]
  }
 ],
 "metadata": {
  "kernelspec": {
   "display_name": "Python 3",
   "language": "python",
   "name": "python3"
  },
  "language_info": {
   "codemirror_mode": {
    "name": "ipython",
    "version": 3
   },
   "file_extension": ".py",
   "mimetype": "text/x-python",
   "name": "python",
   "nbconvert_exporter": "python",
   "pygments_lexer": "ipython3",
   "version": "3.7.7"
  }
 },
 "nbformat": 4,
 "nbformat_minor": 4
}
