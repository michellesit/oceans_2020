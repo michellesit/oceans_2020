{
 "cells": [
  {
   "cell_type": "code",
   "execution_count": 1,
   "metadata": {},
   "outputs": [],
   "source": [
    "import sys\n",
    "from collections import defaultdict\n",
    "import xlrd\n",
    "import gurobipy as grb\n",
    "from gurobipy import GRB\n",
    "\n",
    "import numpy as np\n",
    "import math"
   ]
  },
  {
   "cell_type": "code",
   "execution_count": 2,
   "metadata": {},
   "outputs": [],
   "source": [
    "class Hotspot():\n",
    "    def __init__(self, number, profits, area, uuv_obs_rate):\n",
    "        self.number = number\n",
    "        self.profits = profits\n",
    "        self.area = area\n",
    "        self.lam = uuv_obs_rate/area"
   ]
  },
  {
   "cell_type": "code",
   "execution_count": 3,
   "metadata": {},
   "outputs": [
    {
     "name": "stdout",
     "output_type": "stream",
     "text": [
      "[[99999999     6436     1189     1817     8262      805     3080]\n",
      " [    7599 99999999        0        0     1609        0        0]\n",
      " [    1006     9401 99999999     7167    11017     7737     4803]\n",
      " [    6739     2202        0 99999999     3783      640        0]\n",
      " [    3120        0        0        0 99999999        0        0]\n",
      " [    2709     1625        0        0     3260 99999999        0]\n",
      " [    9523     4483        0     2234     6099     2879 99999999]]\n"
     ]
    }
   ],
   "source": [
    "np.random.seed(248745)\n",
    "distance = np.random.randint(0, 10000, size=(7,7))\n",
    "with open('./../santa_monica_energy_costs.npy', 'rb') as f:\n",
    "    transit_times = np.load(f)\n",
    "distance[1:, 1:] = transit_times[:,:,0]\n",
    "distance[0,0] = 99999999\n",
    "print (distance)"
   ]
  },
  {
   "cell_type": "code",
   "execution_count": 22,
   "metadata": {},
   "outputs": [],
   "source": [
    "# distance = np.random.randint(0, 1000, size=(7,7))\n",
    "\n",
    "##build all the hotspot data\n",
    "uuv_obs_rate = (5**2)*math.pi #arbitrarily selected observation rate\n",
    "all_hotspots = [Hotspot(0, 0, 99999999, uuv_obs_rate), ##This is the init position\n",
    "                Hotspot(1, np.random.randint(0,100), np.random.randint(500,2500), uuv_obs_rate),\n",
    "                Hotspot(2, np.random.randint(0,100), np.random.randint(500,2500), uuv_obs_rate),\n",
    "                Hotspot(3, np.random.randint(0,100), np.random.randint(500,2500), uuv_obs_rate),\n",
    "                Hotspot(4, np.random.randint(0,100), np.random.randint(500,2500), uuv_obs_rate),\n",
    "                Hotspot(5, np.random.randint(0,100), np.random.randint(500,2500), uuv_obs_rate),\n",
    "                Hotspot(6, np.random.randint(0,100), np.random.randint(500,2500), uuv_obs_rate),\n",
    "                ]"
   ]
  },
  {
   "cell_type": "code",
   "execution_count": 23,
   "metadata": {},
   "outputs": [],
   "source": [
    "hotspot_idx = [i.number for i in all_hotspots]\n",
    "points = [(i,j) for i in hotspot_idx for j in hotspot_idx]\n",
    "max_reward = [i.profits for i in all_hotspots]\n",
    "area = [i.area for i in all_hotspots]\n",
    "lam = [i.lam for i in all_hotspots]\n",
    "# Distance = 50000\n",
    "Distance = 3000\n",
    "n = len(all_hotspots)"
   ]
  },
  {
   "cell_type": "code",
   "execution_count": 24,
   "metadata": {},
   "outputs": [
    {
     "name": "stdout",
     "output_type": "stream",
     "text": [
      "[7.8539817125143e-07, 0.12526286497566957, 0.06865368561166506, 0.04031818087255895, 0.03729336008534892, 0.04472654689051528, 0.046694302223391694]\n",
      "[99999999, 627, 1144, 1948, 2106, 1756, 1682]\n",
      "78.53981633974483\n",
      "[0, 55, 30, 47, 72, 99, 10]\n",
      "0.12526286497566957\n"
     ]
    }
   ],
   "source": [
    "print(lam)\n",
    "print(area)\n",
    "print (uuv_obs_rate)\n",
    "print (max_reward)\n",
    "\n",
    "print (uuv_obs_rate/area[1])"
   ]
  },
  {
   "cell_type": "code",
   "execution_count": 25,
   "metadata": {},
   "outputs": [],
   "source": [
    "def profit(idx, h_time):\n",
    "    return (1 - math.exp(-lam[idx] * h_time))*max_reward[idx]"
   ]
  },
  {
   "cell_type": "code",
   "execution_count": 28,
   "metadata": {
    "scrolled": true
   },
   "outputs": [
    {
     "name": "stdout",
     "output_type": "stream",
     "text": [
      "Gurobi Optimizer version 9.0.2 build v9.0.2rc0 (linux64)\n",
      "Optimize a model with 60 rows, 62 columns and 200 nonzeros\n",
      "Model fingerprint: 0xb85fb511\n",
      "Model has 30 quadratic objective terms\n",
      "Model has 1 quadratic constraint\n",
      "Variable types: 7 continuous, 55 integer (49 binary)\n",
      "Coefficient statistics:\n",
      "  Matrix range     [1e+00, 6e+00]\n",
      "  QMatrix range    [1e+00, 1e+00]\n",
      "  QLMatrix range   [6e+02, 1e+08]\n",
      "  Objective range  [6e+02, 1e+08]\n",
      "  QObjective range [2e+00, 2e+00]\n",
      "  Bounds range     [1e+00, 3e+02]\n",
      "  RHS range        [1e+00, 7e+00]\n",
      "  QRHS range       [3e+03, 3e+03]\n",
      "Presolve removed 60 rows and 58 columns\n",
      "Presolve time: 0.00s\n",
      "Presolved: 4 rows, 5 columns, 10 nonzeros\n",
      "Variable types: 4 continuous, 1 integer (1 binary)\n",
      "Found heuristic solution: objective 1625.0000000\n",
      "Found heuristic solution: objective 1895.0000000\n",
      "\n",
      "Root relaxation: objective -2.195000e+03, 0 iterations, 0.00 seconds\n",
      "\n",
      "    Nodes    |    Current Node    |     Objective Bounds      |     Work\n",
      " Expl Unexpl |  Obj  Depth IntInf | Incumbent    BestBd   Gap | It/Node Time\n",
      "\n",
      "*    0     0               0    2195.0000000 2195.00000  0.00%     -    0s\n",
      "\n",
      "Explored 1 nodes (0 simplex iterations) in 0.02 seconds\n",
      "Thread count was 16 (of 16 available processors)\n",
      "\n",
      "Solution count 1: 2195 \n",
      "\n",
      "Optimal solution found (tolerance 1.00e-04)\n",
      "Best objective 2.195000000000e+03, best bound 2.195000000000e+03, gap 0.0000%\n",
      "{(0, 0): 0.0, (0, 1): 0.0, (0, 2): 0.0, (0, 3): 0.0, (0, 4): 0.0, (0, 5): 1.0, (0, 6): 0.0, (1, 0): 0.0, (1, 1): 0.0, (1, 2): 0.0, (1, 3): 0.0, (1, 4): 0.0, (1, 5): 0.0, (1, 6): 1.0, (2, 0): 0.0, (2, 1): 0.0, (2, 2): 0.0, (2, 3): 0.0, (2, 4): 0.0, (2, 5): 0.0, (2, 6): 0.0, (3, 0): 0.0, (3, 1): 0.0, (3, 2): 0.0, (3, 3): 0.0, (3, 4): 0.0, (3, 5): 0.0, (3, 6): -0.0, (4, 0): 0.0, (4, 1): 0.0, (4, 2): 0.0, (4, 3): 0.0, (4, 4): 0.0, (4, 5): 0.0, (4, 6): 0.0, (5, 0): 0.0, (5, 1): 1.0, (5, 2): 0.0, (5, 3): 0.0, (5, 4): 0.0, (5, 5): 0.0, (5, 6): 0.0, (6, 0): 0.0, (6, 1): 0.0, (6, 2): 0.0, (6, 3): 0.0, (6, 4): 0.0, (6, 5): 0.0, (6, 6): 0.0}\n",
      "e0_0 0\n",
      "e0_1 0\n",
      "e0_2 0\n",
      "e0_3 0\n",
      "e0_4 0\n",
      "e0_5 1\n",
      "e0_6 0\n",
      "e1_0 0\n",
      "e1_1 0\n",
      "e1_2 0\n",
      "e1_3 0\n",
      "e1_4 0\n",
      "e1_5 0\n",
      "e1_6 1\n",
      "e2_0 0\n",
      "e2_1 0\n",
      "e2_2 0\n",
      "e2_3 0\n",
      "e2_4 0\n",
      "e2_5 0\n",
      "e2_6 0\n",
      "e3_0 0\n",
      "e3_1 0\n",
      "e3_2 0\n",
      "e3_3 0\n",
      "e3_4 0\n",
      "e3_5 0\n",
      "e3_6 -0\n",
      "e4_0 0\n",
      "e4_1 0\n",
      "e4_2 0\n",
      "e4_3 0\n",
      "e4_4 0\n",
      "e4_5 0\n",
      "e4_6 0\n",
      "e5_0 0\n",
      "e5_1 1\n",
      "e5_2 0\n",
      "e5_3 0\n",
      "e5_4 0\n",
      "e5_5 0\n",
      "e5_6 0\n",
      "e6_0 0\n",
      "e6_1 0\n",
      "e6_2 0\n",
      "e6_3 0\n",
      "e6_4 0\n",
      "e6_5 0\n",
      "e6_6 0\n",
      "e1 6\n",
      "e2 2\n",
      "e3 2\n",
      "e4 7\n",
      "e5 7\n",
      "e6 2\n",
      "t0 0\n",
      "t1 285\n",
      "t2 0\n",
      "t3 0\n",
      "t4 0\n",
      "t5 0\n",
      "t6 285\n",
      "<gurobi.tuplelist (3 tuples, 2 values each):\n",
      " ( 0 , 5 )\n",
      " ( 1 , 6 )\n",
      " ( 5 , 1 )\n",
      ">\n"
     ]
    },
    {
     "ename": "NameError",
     "evalue": "name 'profits' is not defined",
     "output_type": "error",
     "traceback": [
      "\u001b[0;31m---------------------------------------------------------------------------\u001b[0m",
      "\u001b[0;31mNameError\u001b[0m                                 Traceback (most recent call last)",
      "\u001b[0;32m<ipython-input-28-955fb9994e5b>\u001b[0m in \u001b[0;36m<module>\u001b[0;34m\u001b[0m\n\u001b[1;32m     84\u001b[0m \u001b[0mtotal\u001b[0m \u001b[0;34m=\u001b[0m \u001b[0;36m0\u001b[0m\u001b[0;34m\u001b[0m\u001b[0;34m\u001b[0m\u001b[0m\n\u001b[1;32m     85\u001b[0m \u001b[0;32mfor\u001b[0m \u001b[0mz\u001b[0m \u001b[0;32min\u001b[0m \u001b[0mrange\u001b[0m\u001b[0;34m(\u001b[0m\u001b[0mlen\u001b[0m\u001b[0;34m(\u001b[0m\u001b[0mselect\u001b[0m\u001b[0;34m)\u001b[0m\u001b[0;34m)\u001b[0m\u001b[0;34m:\u001b[0m\u001b[0;34m\u001b[0m\u001b[0;34m\u001b[0m\u001b[0m\n\u001b[0;32m---> 86\u001b[0;31m     \u001b[0mtotal\u001b[0m \u001b[0;34m+=\u001b[0m \u001b[0mdistance\u001b[0m\u001b[0;34m[\u001b[0m\u001b[0mselect\u001b[0m\u001b[0;34m[\u001b[0m\u001b[0mz\u001b[0m\u001b[0;34m]\u001b[0m\u001b[0;34m[\u001b[0m\u001b[0;36m0\u001b[0m\u001b[0;34m]\u001b[0m\u001b[0;34m,\u001b[0m \u001b[0mselect\u001b[0m\u001b[0;34m[\u001b[0m\u001b[0mz\u001b[0m\u001b[0;34m]\u001b[0m\u001b[0;34m[\u001b[0m\u001b[0;36m1\u001b[0m\u001b[0;34m]\u001b[0m\u001b[0;34m]\u001b[0m \u001b[0;34m+\u001b[0m \u001b[0mprofits\u001b[0m\u001b[0;34m[\u001b[0m\u001b[0mselect\u001b[0m\u001b[0;34m[\u001b[0m\u001b[0mz\u001b[0m\u001b[0;34m]\u001b[0m\u001b[0;34m[\u001b[0m\u001b[0;36m0\u001b[0m\u001b[0;34m]\u001b[0m\u001b[0;34m]\u001b[0m\u001b[0;34m\u001b[0m\u001b[0;34m\u001b[0m\u001b[0m\n\u001b[0m\u001b[1;32m     87\u001b[0m \u001b[0;34m\u001b[0m\u001b[0m\n\u001b[1;32m     88\u001b[0m \u001b[0mprint\u001b[0m \u001b[0;34m(\u001b[0m\u001b[0;34m\"TOTAL ANSWER IS : \"\u001b[0m\u001b[0;34m,\u001b[0m \u001b[0mtotal\u001b[0m\u001b[0;34m)\u001b[0m\u001b[0;34m\u001b[0m\u001b[0;34m\u001b[0m\u001b[0m\n",
      "\u001b[0;31mNameError\u001b[0m: name 'profits' is not defined"
     ]
    }
   ],
   "source": [
    "opt_model = grb.Model(name=\"MILP Model\")\n",
    "\n",
    "# <= Variables\n",
    "##x_vars = x_ij travel from hotspot i to j\n",
    "x_vars = {}\n",
    "for i in range(n):\n",
    "   for j in range(n):\n",
    "     x_vars[i,j] = opt_model.addVar(vtype=grb.GRB.BINARY,\n",
    "                          name='e'+str(i)+'_'+str(j))\n",
    "\n",
    "##u = boolean if visit hotspot i\n",
    "u={}\n",
    "for i in range(1,n):\n",
    "    u[i]=opt_model.addVar(vtype=grb.GRB.INTEGER,\n",
    "                          name='e'+str(i))\n",
    "    \n",
    "##Introduce hotspot_time variable\n",
    "##Create profits function\n",
    "npts = 300\n",
    "ptf = np.empty((n, npts))\n",
    "ptu = np.arange(0, npts, 1).tolist()\n",
    "\n",
    "for i in range(n):\n",
    "    for p in range(npts):\n",
    "        ptf[i,p] = profit(i, ptu[p])\n",
    "\n",
    "t={}\n",
    "for i in range(n):\n",
    "    t[i] = opt_model.addVar(lb = 0.0, ub = 300, name='t'+str(i))\n",
    "    opt_model.setPWLObj(t[i], ptu, ptf[i,:].tolist())\n",
    "    \n",
    "# <= Constraint (Mandatory Edges and excluding vertexes) Eq(1)\n",
    "opt_model.addConstr(grb.quicksum([x_vars[1,j] for j in range(1,n)])  == 1)\n",
    "opt_model.addConstr(grb.quicksum([x_vars[i,n-1] for i in range(n-1)])  == 1)\n",
    "# opt_model.addConstr((grb.quicksum(x_vars[i,i] for i in range(n-1)))  == 0)\n",
    "\n",
    "\n",
    "# <= Constraint (Distance) Eq(3)\n",
    "# for i in range(n-1):\n",
    "#   opt_model.addConstr(grb.quicksum([x_vars[i,j]*distance(points, i, j) for j in range(1,n)]) <= Distance)\n",
    "# opt_model.addConstr(grb.quicksum([x_vars[i,j]*distance(points, i,j) for j in range(1,n) for i in range(n-1)]) <= Distance)\n",
    "opt_model.addConstr(grb.quicksum([x_vars[i,j]*t[j]\n",
    "                                + x_vars[i,j]*distance[i,j] for j in range(1,n) for i in range(n-1)]) <= Distance)\n",
    "\n",
    "# <= Constraint (Equality & Single edge in and out) Eq(2)\n",
    "for k in range(1, n-1):\n",
    "#   opt_model.addConstr(grb.quicksum(x_vars[i,k] for i in range(n-1))\n",
    "#                       == grb.quicksum(x_vars[k,j] for j in range(1, n)) <=1)\n",
    "\n",
    "    one = grb.quicksum([x_vars[i,k] for i in range(n-1)])\n",
    "    two = grb.quicksum([x_vars[k,j] for j in range(1, n)])\n",
    "    opt_model.addConstr(one == two)\n",
    "    opt_model.addConstr(one <= 1)\n",
    "\n",
    "# <= Constraint (Subtour elimination) Eq(4) Eq(5)\n",
    "for i in range(1,n):\n",
    "    opt_model.addConstr(2 <= u[i])\n",
    "    opt_model.addConstr(u[i] <= n)\n",
    "#   opt_model.addConstr(2 <= u[i] <= n)\n",
    "\n",
    "for i in range(1,n):\n",
    "    for j in range(1,n):\n",
    "        opt_model.addConstr((u[i] - u[j] +1 <= (n-1)*(1-x_vars[j,i])))\n",
    "\n",
    "        \n",
    "# <= objective (maximize) Eq(1)\n",
    "objective = grb.quicksum([x_vars[i,j]*t[j] + x_vars[i,j]*distance[i,j]\n",
    "                         for i in range(1, n-1)\n",
    "                         for j in range(1, n)])\n",
    "\n",
    "opt_model.ModelSense = grb.GRB.MAXIMIZE\n",
    "opt_model.setObjective(objective)\n",
    "opt_model.optimize()\n",
    "\n",
    "solution = opt_model.getAttr('x', x_vars )\n",
    "print (solution)\n",
    "\n",
    "for v in opt_model.getVars():\n",
    "    print('%s %g' % (v.VarName, v.X))\n",
    "\n",
    "select = grb.tuplelist((i,j) for i,j in x_vars.keys() if x_vars[i,j].X > 0.5)\n",
    "print (select)\n",
    "\n",
    "total = 0\n",
    "for z in range(len(select)):\n",
    "    total += distance[select[z][0], select[z][1]] + profits[select[z][0]]\n",
    "    \n",
    "print (\"TOTAL ANSWER IS : \", total)\n",
    "\n",
    "##now do the second optimization trick   \n",
    "# for i in range(0,n):\n",
    "#     for p in range(npts):\n",
    "#         ptf[i,p] = -ptf[i,p]\n",
    "        \n",
    "# t={}\n",
    "# for i in range(1,n):\n",
    "#     t[i]=opt_model.addVar(lb = 0.0, ub = 300, name=\"ti\")\n",
    "#     opt_model.setPWLObj(t[i], ptu, ptf[i,:].tolist())\n",
    "    \n",
    "# opt_model.optimize()\n",
    "\n",
    "\n",
    "# # opt_model.update()\n",
    "# # opt_model.computeIIS()\n",
    "# # opt_model.write(\"model.ilp\")\n",
    "# solution = opt_model.getAttr('x', x_vars )\n",
    "\n",
    "# print (solution)\n",
    "\n",
    "# select = grb.tuplelist((i,j) for i,j in x_vars.keys() if x_vars[i,j].X > 0.5)\n",
    "# print (select)\n",
    "\n",
    "# total = 0\n",
    "# for z in range(len(select)):\n",
    "#     total += distance[select[z][0], select[z][1]] + profits[select[z][0]]\n",
    "    \n",
    "# print (\"TOTAL ANSWER IS : \", total)"
   ]
  },
  {
   "cell_type": "code",
   "execution_count": 97,
   "metadata": {
    "scrolled": false
   },
   "outputs": [
    {
     "name": "stdout",
     "output_type": "stream",
     "text": [
      "Gurobi Optimizer version 9.0.2 build v9.0.2rc0 (linux64)\n",
      "Optimize a model with 60 rows, 67 columns and 200 nonzeros\n",
      "Model fingerprint: 0x4d241c9f\n",
      "Model has 30 quadratic objective terms\n",
      "Model has 1 quadratic constraint\n",
      "Model has 6 general constraints\n",
      "Variable types: 12 continuous, 55 integer (49 binary)\n",
      "Coefficient statistics:\n",
      "  Matrix range     [1e+00, 6e+00]\n",
      "  QMatrix range    [1e+00, 1e+00]\n",
      "  QLMatrix range   [6e+02, 1e+08]\n",
      "  Objective range  [0e+00, 0e+00]\n",
      "  QObjective range [2e+00, 2e+00]\n",
      "  Bounds range     [1e+00, 3e+02]\n",
      "  RHS range        [1e+00, 7e+00]\n",
      "  QRHS range       [3e+03, 3e+03]\n",
      "Presolve added 0 rows and 1459 columns\n",
      "Presolve removed 26 rows and 0 columns\n",
      "Presolve time: 0.01s\n",
      "Presolved: 66 rows, 1567 columns, 4660 nonzeros\n",
      "Presolved model has 25 SOS constraint(s)\n",
      "Variable types: 1541 continuous, 26 integer (22 binary)\n",
      "Found heuristic solution: objective 13.0799524\n",
      "\n",
      "Root relaxation: unbounded, 0 iterations, 0.00 seconds\n",
      "\n",
      "    Nodes    |    Current Node    |     Objective Bounds      |     Work\n",
      " Expl Unexpl |  Obj  Depth IntInf | Incumbent    BestBd   Gap | It/Node Time\n",
      "\n",
      "     0     0  111.99973    0    3   13.07995  111.99973   756%     -    0s\n",
      "H    0     0                     109.6482183  111.99973  2.14%     -    0s\n",
      "H    0     0                     111.9436301  111.99973  0.05%     -    0s\n",
      "     0     0  111.99972    0    5  111.94363  111.99972  0.05%     -    0s\n",
      "H    0     0                     111.9979546  111.99972  0.00%     -    0s\n",
      "\n",
      "Cutting planes:\n",
      "  MIR: 2\n",
      "  Flow cover: 1\n",
      "  RLT: 1\n",
      "\n",
      "Explored 1 nodes (57 simplex iterations) in 0.07 seconds\n",
      "Thread count was 16 (of 16 available processors)\n",
      "\n",
      "Solution count 5: 111.998 111.944 109.648 ... 13.08\n",
      "\n",
      "Optimal solution found (tolerance 1.00e-04)\n",
      "Best objective 1.119979545609e+02, best bound 1.119997224945e+02, gap 0.0016%\n",
      "{(0, 0): 0.0, (0, 1): 0.0, (0, 2): 0.0, (0, 3): 0.0, (0, 4): 0.0, (0, 5): 1.0, (0, 6): 0.0, (1, 0): 0.0, (1, 1): 0.0, (1, 2): 0.0, (1, 3): 1.0, (1, 4): 0.0, (1, 5): 0.0, (1, 6): 0.0, (2, 0): 0.0, (2, 1): 0.0, (2, 2): 0.0, (2, 3): 0.0, (2, 4): 0.0, (2, 5): 0.0, (2, 6): 0.0, (3, 0): 0.0, (3, 1): 0.0, (3, 2): 0.0, (3, 3): 0.0, (3, 4): 0.0, (3, 5): 0.0, (3, 6): 1.0, (4, 0): 0.0, (4, 1): 0.0, (4, 2): 0.0, (4, 3): 0.0, (4, 4): 0.0, (4, 5): 0.0, (4, 6): 0.0, (5, 0): 0.0, (5, 1): 1.0, (5, 2): 0.0, (5, 3): 0.0, (5, 4): 0.0, (5, 5): 0.0, (5, 6): 0.0, (6, 0): 0.0, (6, 1): 0.0, (6, 2): 0.0, (6, 3): 0.0, (6, 4): 0.0, (6, 5): 0.0, (6, 6): 0.0}\n",
      "<gurobi.tuplelist (4 tuples, 2 values each):\n",
      " ( 0 , 5 )\n",
      " ( 1 , 3 )\n",
      " ( 3 , 6 )\n",
      " ( 5 , 1 )\n",
      ">\n",
      "<gurobi.tuplelist (4 tuples, 2 values each):\n",
      " ( 1 , 97.0  )\n",
      " ( 3 , 268.0 )\n",
      " ( 4 , 2.0   )\n",
      " ( 6 , 202.0 )\n",
      ">\n",
      "<gurobi.tuplelist (4 tuples, 2 values each):\n",
      " ( 1 , 54.99970928429218  )\n",
      " ( 3 , 46.999046265161425 )\n",
      " ( 4 , 5.174857206825893  )\n",
      " ( 6 , 9.999199011490449  )\n",
      ">\n",
      "path len:  805\n",
      "hotspot time:  97.0\n",
      "path len:  0\n",
      "hotspot time:  268.0\n",
      "path len:  0\n",
      "hotspot time:  2.0\n",
      "path len:  1625\n",
      "hotspot time:  202.0\n",
      "hotspot reward:  54.99970928429218\n",
      "hotspot reward:  46.999046265161425\n",
      "hotspot reward:  5.174857206825893\n",
      "hotspot reward:  9.99919901149045\n",
      "TOTAL ANSWER IS :  2999.0\n",
      "TOTAL PROFIT IS:  117.17281176776994\n"
     ]
    }
   ],
   "source": [
    "opt_model = grb.Model(name=\"MILP Model\")\n",
    "\n",
    "# <= Variables\n",
    "##x_vars = x_ij travel from hotspot i to j\n",
    "x_vars = {}\n",
    "for i in range(n):\n",
    "   for j in range(n):\n",
    "     x_vars[i,j] = opt_model.addVar(vtype=grb.GRB.BINARY,\n",
    "                          name='e'+str(i)+'_'+str(j))\n",
    "\n",
    "##u = boolean if visit hotspot i\n",
    "u={}\n",
    "for i in range(1,n):\n",
    "    u[i]=opt_model.addVar(vtype=grb.GRB.INTEGER,\n",
    "                          name='e'+str(i))\n",
    "    \n",
    "##Introduce hotspot_time variable\n",
    "##Create profits function\n",
    "npts = 300\n",
    "ptf = np.empty((n, npts))\n",
    "ptu = np.arange(0, npts, 1).tolist()\n",
    "\n",
    "for i in range(0,n):\n",
    "    for p in range(npts):\n",
    "        ptf[i,p] = profit(i, ptu[p])\n",
    "\n",
    "t={}\n",
    "r={}\n",
    "for i in range(1,n):\n",
    "    t[i] = opt_model.addVar(lb = 0.0, ub = 300, name='t'+str(i))\n",
    "    r[i] = opt_model.addVar(lb = 0.0, name='r'+str(i))\n",
    "    opt_model.addGenConstrPWL(t[i], r[i], ptu, ptf[i,:], \"reward\"+str(i))\n",
    "#     opt_model.setPWLObj(t[i], ptu, ptf[i,:].tolist())\n",
    "    \n",
    "# r={}\n",
    "# for i in range(1,n):\n",
    "#     r[i] = opt_model.addVar(lb = 0.0, name='r'+str(i))\n",
    "#     opt_model.addGenConstrPWL(r[i], ptu, i, ptf[i,:])\n",
    "    \n",
    "# <= Constraint (Mandatory Edges and excluding vertexes) Eq(1)\n",
    "opt_model.addConstr(grb.quicksum([x_vars[1,j] for j in range(1,n)])  == 1)\n",
    "opt_model.addConstr(grb.quicksum([x_vars[i,n-1] for i in range(n-1)])  == 1)\n",
    "\n",
    "# <= Constraint (Distance) Eq(3)\n",
    "opt_model.addConstr(grb.quicksum([x_vars[i,j]*t[j]\n",
    "                                + x_vars[i,j]*distance[i,j] for j in range(1,n) for i in range(n-1)]) <= Distance)\n",
    "\n",
    "# <= Constraint (Equality & Single edge in and out) Eq(2)\n",
    "for k in range(1, n-1):\n",
    "    one = grb.quicksum([x_vars[i,k] for i in range(n-1)])\n",
    "    two = grb.quicksum([x_vars[k,j] for j in range(1, n)])\n",
    "    opt_model.addConstr(one == two)\n",
    "    opt_model.addConstr(one <= 1)\n",
    "\n",
    "# <= Constraint (Subtour elimination) Eq(4) Eq(5)\n",
    "for i in range(1,n):\n",
    "    opt_model.addConstr(2 <= u[i])\n",
    "    opt_model.addConstr(u[i] <= n)\n",
    "    \n",
    "for i in range(1,n):\n",
    "    for j in range(1,n):\n",
    "        opt_model.addConstr((u[i] - u[j] +1 <= (n-1)*(1-x_vars[j,i])))\n",
    "\n",
    "        \n",
    "# <= objective (maximize) Eq(1)\n",
    "objective = grb.quicksum([x_vars[i,j]*r[j]\n",
    "                         for i in range(1, n-1)\n",
    "                         for j in range(1, n)])\n",
    "\n",
    "opt_model.ModelSense = grb.GRB.MAXIMIZE\n",
    "opt_model.setObjective(objective)\n",
    "opt_model.optimize()\n",
    "\n",
    "solution = opt_model.getAttr('x', x_vars )\n",
    "print (solution)\n",
    "\n",
    "# for v in opt_model.getVars():\n",
    "#     print('%s %g' % (v.VarName, v.X))\n",
    "\n",
    "select = grb.tuplelist((i,j) for i,j in x_vars.keys() if x_vars[i,j].X > 0.5)\n",
    "givemetime = grb.tuplelist((i, t[i].X) for i in t.keys() if t[i].X > 0.0)\n",
    "givemereward = grb.tuplelist((i, r[i].X) for i in r.keys() if r[i].X > 0.0)\n",
    "print (select)\n",
    "print (givemetime)\n",
    "print (givemereward)\n",
    "\n",
    "total_time = 0\n",
    "total_profit = 0\n",
    "for z in range(len(select)):\n",
    "    print (\"path len: \", distance[select[z][0], select[z][1]])\n",
    "    print (\"hotspot time: \", givemetime[z][1])\n",
    "    total_time += distance[select[z][0], select[z][1]]\n",
    "    total_time += givemetime[z][1]\n",
    "    \n",
    "for z in range(len(givemereward)):\n",
    "    print (\"hotspot reward: \", profit(givemereward[z][0], givemetime[z][1]))\n",
    "    total_profit += profit(givemereward[z][0], givemetime[z][1])\n",
    "    \n",
    "\n",
    "print (\"TOTAL ANSWER IS : \", total_time)\n",
    "print (\"TOTAL PROFIT IS: \", total_profit)"
   ]
  },
  {
   "cell_type": "code",
   "execution_count": 16,
   "metadata": {},
   "outputs": [
    {
     "data": {
      "image/png": "[encoded data removed]",
      "text/plain": [
       "<Figure size 432x288 with 1 Axes>"
      ]
     },
     "metadata": {
      "needs_background": "light"
     },
     "output_type": "display_data"
    }
   ],
   "source": [
    "import matplotlib.pyplot as plt\n",
    "\n",
    "x = np.arange(0, 300)\n",
    "fig = plt.plot()\n",
    "for i in range(len(all_hotspots)):\n",
    "    y = (1 - np.exp(-lam[i] * x)) * max_reward[i]\n",
    "    plt.plot(x, y, label=i)\n",
    "plt.legend()\n",
    "plt.show()"
   ]
  },
  {
   "cell_type": "code",
   "execution_count": 50,
   "metadata": {},
   "outputs": [
    {
     "data": {
      "text/plain": [
       "dict_keys([1, 2, 3, 4, 5, 6])"
      ]
     },
     "execution_count": 50,
     "metadata": {},
     "output_type": "execute_result"
    }
   ],
   "source": [
    "t.keys()"
   ]
  },
  {
   "cell_type": "code",
   "execution_count": 33,
   "metadata": {},
   "outputs": [
    {
     "data": {
      "text/plain": [
       "<gurobi.tuplelist (3 tuples, 2 values each):\n",
       " ( 0 , 5 )\n",
       " ( 1 , 6 )\n",
       " ( 5 , 1 )\n",
       ">"
      ]
     },
     "execution_count": 33,
     "metadata": {},
     "output_type": "execute_result"
    }
   ],
   "source": [
    "select"
   ]
  },
  {
   "cell_type": "code",
   "execution_count": 38,
   "metadata": {},
   "outputs": [
    {
     "data": {
      "text/plain": [
       "<gurobi.Var e0_0 (value 0.0)>"
      ]
     },
     "execution_count": 38,
     "metadata": {},
     "output_type": "execute_result"
    }
   ],
   "source": [
    "opt_model.getVars()[0]"
   ]
  },
  {
   "cell_type": "code",
   "execution_count": 55,
   "metadata": {},
   "outputs": [
    {
     "data": {
      "text/plain": [
       "(0, 5)"
      ]
     },
     "execution_count": 55,
     "metadata": {},
     "output_type": "execute_result"
    }
   ],
   "source": [
    "select[0]"
   ]
  },
  {
   "cell_type": "code",
   "execution_count": 59,
   "metadata": {},
   "outputs": [
    {
     "data": {
      "text/plain": [
       "98.99971182597697"
      ]
     },
     "execution_count": 59,
     "metadata": {},
     "output_type": "execute_result"
    }
   ],
   "source": [
    "profit(select[0][1], givemetime[0][1])"
   ]
  },
  {
   "cell_type": "code",
   "execution_count": 58,
   "metadata": {},
   "outputs": [
    {
     "data": {
      "text/plain": [
       "(1, 285.0)"
      ]
     },
     "execution_count": 58,
     "metadata": {},
     "output_type": "execute_result"
    }
   ],
   "source": [
    "givemetime[0]"
   ]
  },
  {
   "cell_type": "code",
   "execution_count": 67,
   "metadata": {},
   "outputs": [
    {
     "data": {
      "text/plain": [
       "54.99999999999998"
      ]
     },
     "execution_count": 67,
     "metadata": {},
     "output_type": "execute_result"
    }
   ],
   "source": [
    "ptf[1, 285]"
   ]
  },
  {
   "cell_type": "code",
   "execution_count": null,
   "metadata": {},
   "outputs": [],
   "source": []
  }
 ],
 "metadata": {
  "kernelspec": {
   "display_name": "Python 3",
   "language": "python",
   "name": "python3"
  },
  "language_info": {
   "codemirror_mode": {
    "name": "ipython",
    "version": 3
   },
   "file_extension": ".py",
   "mimetype": "text/x-python",
   "name": "python",
   "nbconvert_exporter": "python",
   "pygments_lexer": "ipython3",
   "version": "3.7.7"
  }
 },
 "nbformat": 4,
 "nbformat_minor": 4
}
