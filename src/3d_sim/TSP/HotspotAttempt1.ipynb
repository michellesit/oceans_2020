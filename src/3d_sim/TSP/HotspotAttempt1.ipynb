{
 "cells": [
  {
   "cell_type": "code",
   "execution_count": 11,
   "metadata": {},
   "outputs": [],
   "source": [
    "import sys\n",
    "from collections import defaultdict\n",
    "import xlrd\n",
    "import gurobipy as grb\n",
    "from gurobipy import GRB\n",
    "\n",
    "import numpy as np\n",
    "import math\n",
    "\n",
    "np.random.seed(248745)"
   ]
  },
  {
   "cell_type": "code",
   "execution_count": 12,
   "metadata": {},
   "outputs": [],
   "source": [
    "class Hotspot():\n",
    "    def __init__(self, number, profits, area, uuv_obs_rate):\n",
    "        self.number = number\n",
    "        self.profits = profits\n",
    "        self.area = area\n",
    "        self.lam = uuv_obs_rate/area"
   ]
  },
  {
   "cell_type": "code",
   "execution_count": 13,
   "metadata": {},
   "outputs": [],
   "source": [
    "distance = np.random.randint(0, 1000, size=(7,7))\n",
    "\n",
    "##build all the hotspot data\n",
    "uuv_obs_rate = (5**2)*math.pi #arbitrarily selected observation rate\n",
    "all_hotspots = [Hotspot(0, 0, 0.1, uuv_obs_rate), ##This is the init position\n",
    "                Hotspot(1, np.random.randint(0,100), np.random.randint(500,2500), uuv_obs_rate),\n",
    "                Hotspot(2, np.random.randint(0,100), np.random.randint(500,2500), uuv_obs_rate),\n",
    "                Hotspot(3, np.random.randint(0,100), np.random.randint(500,2500), uuv_obs_rate),\n",
    "                Hotspot(4, np.random.randint(0,100), np.random.randint(500,2500), uuv_obs_rate),\n",
    "                Hotspot(5, np.random.randint(0,100), np.random.randint(500,2500), uuv_obs_rate),\n",
    "                Hotspot(6, np.random.randint(0,100), np.random.randint(500,2500), uuv_obs_rate),\n",
    "                ]"
   ]
  },
  {
   "cell_type": "code",
   "execution_count": 33,
   "metadata": {},
   "outputs": [],
   "source": [
    "hotspot_idx = [i.number for i in all_hotspots]\n",
    "points = [(i,j) for i in hotspot_idx for j in hotspot_idx]\n",
    "profits = [i.profits for i in all_hotspots]\n",
    "lam = [i.lam for i in all_hotspots]\n",
    "# Distance = 50000\n",
    "Distance = 3000\n",
    "n = len(all_hotspots)"
   ]
  },
  {
   "cell_type": "code",
   "execution_count": 32,
   "metadata": {},
   "outputs": [],
   "source": [
    "def profit(idx, h_time):\n",
    "    return 1 - math.exp(-lam[idx] * h_time)"
   ]
  },
  {
   "cell_type": "code",
   "execution_count": 60,
   "metadata": {},
   "outputs": [
    {
     "name": "stdout",
     "output_type": "stream",
     "text": [
      "Gurobi Optimizer version 9.0.2 build v9.0.2rc0 (linux64)\n",
      "Optimize a model with 60 rows, 61 columns and 200 nonzeros\n",
      "Model fingerprint: 0x2fe47786\n",
      "Model has 1 quadratic constraint\n",
      "Variable types: 6 continuous, 55 integer (49 binary)\n",
      "Coefficient statistics:\n",
      "  Matrix range     [1e+00, 6e+00]\n",
      "  QMatrix range    [1e+00, 1e+00]\n",
      "  QLMatrix range   [8e+00, 1e+03]\n",
      "  Objective range  [1e+00, 1e+00]\n",
      "  Bounds range     [1e+00, 3e+02]\n",
      "  RHS range        [1e+00, 7e+00]\n",
      "  QRHS range       [3e+03, 3e+03]\n",
      "Presolve removed 24 rows and 19 columns\n",
      "Presolve time: 0.00s\n",
      "Presolved: 68 rows, 73 columns, 369 nonzeros\n",
      "Variable types: 0 continuous, 73 integer (31 binary)\n",
      "Found heuristic solution: objective 2.0000000\n",
      "\n",
      "Root relaxation: objective -5.000000e+00, 25 iterations, 0.00 seconds\n",
      "\n",
      "    Nodes    |    Current Node    |     Objective Bounds      |     Work\n",
      " Expl Unexpl |  Obj  Depth IntInf | Incumbent    BestBd   Gap | It/Node Time\n",
      "\n",
      "     0     0    5.00000    0    4    2.00000    5.00000   150%     -    0s\n",
      "H    0     0                       3.0000000    5.00000  66.7%     -    0s\n",
      "H    0     0                       5.0000000    5.00000  0.00%     -    0s\n",
      "     0     0    5.00000    0    4    5.00000    5.00000  0.00%     -    0s\n",
      "\n",
      "Explored 1 nodes (25 simplex iterations) in 0.02 seconds\n",
      "Thread count was 16 (of 16 available processors)\n",
      "\n",
      "Solution count 3: 5 3 2 \n",
      "\n",
      "Optimal solution found (tolerance 1.00e-04)\n",
      "Best objective 5.000000000000e+00, best bound 5.000000000000e+00, gap 0.0000%\n",
      "{(0, 0): 0.0, (0, 1): 1.0, (0, 2): -0.0, (0, 3): -0.0, (0, 4): -0.0, (0, 5): -0.0, (0, 6): -0.0, (1, 0): 0.0, (1, 1): 0.0, (1, 2): 1.0, (1, 3): -0.0, (1, 4): -0.0, (1, 5): -0.0, (1, 6): -0.0, (2, 0): 0.0, (2, 1): -0.0, (2, 2): 0.0, (2, 3): 1.0, (2, 4): -0.0, (2, 5): -0.0, (2, 6): -0.0, (3, 0): 0.0, (3, 1): -0.0, (3, 2): -0.0, (3, 3): 0.0, (3, 4): 1.0, (3, 5): -0.0, (3, 6): -0.0, (4, 0): 0.0, (4, 1): -0.0, (4, 2): -0.0, (4, 3): -0.0, (4, 4): 0.0, (4, 5): 1.0, (4, 6): -0.0, (5, 0): 0.0, (5, 1): -0.0, (5, 2): -0.0, (5, 3): -0.0, (5, 4): -0.0, (5, 5): 0.0, (5, 6): 1.0, (6, 0): 0.0, (6, 1): 0.0, (6, 2): 0.0, (6, 3): 0.0, (6, 4): 0.0, (6, 5): 0.0, (6, 6): 0.0}\n",
      "<gurobi.tuplelist (6 tuples, 2 values each):\n",
      " ( 0 , 1 )\n",
      " ( 1 , 2 )\n",
      " ( 2 , 3 )\n",
      " ( 3 , 4 )\n",
      " ( 4 , 5 )\n",
      " ( 5 , 6 )\n",
      ">\n",
      "TOTAL ANSWER IS :  2702\n"
     ]
    }
   ],
   "source": [
    "opt_model = grb.Model(name=\"MILP Model\")\n",
    "\n",
    "# <= Variables\n",
    "##x_vars = x_ij travel from hotspot i to j\n",
    "x_vars = {}\n",
    "for i in range(n):\n",
    "   for j in range(n):\n",
    "     x_vars[i,j] = opt_model.addVar(vtype=grb.GRB.BINARY,\n",
    "                          name='e'+str(i)+'_'+str(j))\n",
    "\n",
    "##u = boolean if visit hotspot i\n",
    "u={}\n",
    "for i in range(1,n):\n",
    "    u[i]=opt_model.addVar(vtype=grb.GRB.INTEGER,\n",
    "                          name='e'+str(i))\n",
    "    \n",
    "##Introduce hotspot_time variable\n",
    "##Create profits function\n",
    "npts = 300\n",
    "ptf = np.empty((n, npts))\n",
    "ptu = np.arange(0, npts, 1).tolist()\n",
    "\n",
    "for i in range(0,n):\n",
    "    for p in range(npts):\n",
    "        ptf[i,p] = profit(i, ptu[p])\n",
    "\n",
    "t={}\n",
    "for i in range(1,n):\n",
    "    t[i]=opt_model.addVar(lb = 0.0, ub = 300, name=\"ti\")\n",
    "    opt_model.setPWLObj(t[i], ptu, ptf[i,:].tolist())\n",
    "\n",
    "\n",
    "# <= Constraint (Mandatory Edges and excluding vertexes) Eq(1)\n",
    "opt_model.addConstr(grb.quicksum([x_vars[1,j] for j in range(1,n)])  == 1)\n",
    "opt_model.addConstr(grb.quicksum([x_vars[i,n-1] for i in range(n-1)])  == 1)\n",
    "# opt_model.addConstr((grb.quicksum(x_vars[i,i] for i in range(n-1)))  == 0)\n",
    "\n",
    "\n",
    "# <= Constraint (Distance) Eq(3)\n",
    "# for i in range(n-1):\n",
    "#   opt_model.addConstr(grb.quicksum([x_vars[i,j]*distance(points, i, j) for j in range(1,n)]) <= Distance)\n",
    "# opt_model.addConstr(grb.quicksum([x_vars[i,j]*distance(points, i,j) for j in range(1,n) for i in range(n-1)]) <= Distance)\n",
    "opt_model.addConstr(grb.quicksum([x_vars[i,j]*t[j]\n",
    "                                + x_vars[i,j]*distance[i,j] for j in range(1,n) for i in range(n-1)]) <= Distance)\n",
    "\n",
    "\n",
    "# <= Constraint (Equality & Single edge in and out) Eq(2)\n",
    "for k in range(1, n-1):\n",
    "#   opt_model.addConstr(grb.quicksum(x_vars[i,k] for i in range(n-1))\n",
    "#                       == grb.quicksum(x_vars[k,j] for j in range(1, n)) <=1)\n",
    "\n",
    "    one = grb.quicksum([x_vars[i,k] for i in range(n-1)])\n",
    "    two = grb.quicksum([x_vars[k,j] for j in range(1, n)])\n",
    "    opt_model.addConstr(one == two)\n",
    "    opt_model.addConstr(one <= 1)\n",
    "\n",
    "# <= Constraint (Subtour elimination) Eq(4) Eq(5)\n",
    "for i in range(1,n):\n",
    "    opt_model.addConstr(2 <= u[i])\n",
    "    opt_model.addConstr(u[i] <= n)\n",
    "#   opt_model.addConstr(2 <= u[i] <= n)\n",
    "\n",
    "for i in range(1,n):\n",
    "    for j in range(1,n):\n",
    "        opt_model.addConstr((u[i] - u[j] +1 <= (n-1)*(1-x_vars[j,i])))\n",
    "\n",
    "        \n",
    "# <= objective (maximize) Eq(1)\n",
    "objective = grb.quicksum([x_vars[i,j]\n",
    "                         for i in range(1, n-1)\n",
    "                         for j in range(1, n)])\n",
    "\n",
    "opt_model.ModelSense = grb.GRB.MAXIMIZE\n",
    "opt_model.setObjective(objective)\n",
    "opt_model.optimize()\n",
    "\n",
    "solution = opt_model.getAttr('x', x_vars )\n",
    "print (solution)\n",
    "\n",
    "select = grb.tuplelist((i,j) for i,j in x_vars.keys() if x_vars[i,j].X > 0.5)\n",
    "print (select)\n",
    "\n",
    "total = 0\n",
    "for z in range(len(select)):\n",
    "    total += distance[select[z][0], select[z][1]] + profits[select[z][0]]\n",
    "    \n",
    "print (\"TOTAL ANSWER IS : \", total)\n",
    "\n",
    "##now do the second optimization trick   \n",
    "# for i in range(0,n):\n",
    "#     for p in range(npts):\n",
    "#         ptf[i,p] = -ptf[i,p]\n",
    "        \n",
    "# t={}\n",
    "# for i in range(1,n):\n",
    "#     t[i]=opt_model.addVar(lb = 0.0, ub = 300, name=\"ti\")\n",
    "#     opt_model.setPWLObj(t[i], ptu, ptf[i,:].tolist())\n",
    "    \n",
    "# opt_model.optimize()\n",
    "\n",
    "\n",
    "# # opt_model.update()\n",
    "# # opt_model.computeIIS()\n",
    "# # opt_model.write(\"model.ilp\")\n",
    "# solution = opt_model.getAttr('x', x_vars )\n",
    "\n",
    "# print (solution)\n",
    "\n",
    "# select = grb.tuplelist((i,j) for i,j in x_vars.keys() if x_vars[i,j].X > 0.5)\n",
    "# print (select)\n",
    "\n",
    "# total = 0\n",
    "# for z in range(len(select)):\n",
    "#     total += distance[select[z][0], select[z][1]] + profits[select[z][0]]\n",
    "    \n",
    "# print (\"TOTAL ANSWER IS : \", total)"
   ]
  },
  {
   "cell_type": "code",
   "execution_count": 55,
   "metadata": {},
   "outputs": [
    {
     "name": "stdout",
     "output_type": "stream",
     "text": [
      "<gurobi.tuplelist (6 tuples, 2 values each):\n",
      " ( 0 , 1 )\n",
      " ( 1 , 2 )\n",
      " ( 2 , 3 )\n",
      " ( 3 , 4 )\n",
      " ( 4 , 5 )\n",
      " ( 5 , 6 )\n",
      ">\n"
     ]
    }
   ],
   "source": [
    "select = grb.tuplelist((i,j) for i,j in x_vars.keys() if x_vars[i,j].X > 0.5)\n",
    "print (select)"
   ]
  },
  {
   "cell_type": "code",
   "execution_count": 56,
   "metadata": {},
   "outputs": [
    {
     "name": "stdout",
     "output_type": "stream",
     "text": [
      "2702\n"
     ]
    }
   ],
   "source": [
    "total = 0\n",
    "for z in range(len(select)):\n",
    "    total += distance[select[z][0], select[z][1]] + profits[select[z][0]]\n",
    "    \n",
    "print (total)"
   ]
  },
  {
   "cell_type": "code",
   "execution_count": 53,
   "metadata": {},
   "outputs": [
    {
     "data": {
      "text/plain": [
       "{1: <gurobi.Var *Awaiting Model Update*>,\n",
       " 2: <gurobi.Var *Awaiting Model Update*>,\n",
       " 3: <gurobi.Var *Awaiting Model Update*>,\n",
       " 4: <gurobi.Var *Awaiting Model Update*>,\n",
       " 5: <gurobi.Var *Awaiting Model Update*>,\n",
       " 6: <gurobi.Var *Awaiting Model Update*>}"
      ]
     },
     "execution_count": 53,
     "metadata": {},
     "output_type": "execute_result"
    }
   ],
   "source": [
    "t"
   ]
  },
  {
   "cell_type": "code",
   "execution_count": null,
   "metadata": {},
   "outputs": [],
   "source": []
  }
 ],
 "metadata": {
  "kernelspec": {
   "display_name": "Python 3",
   "language": "python",
   "name": "python3"
  },
  "language_info": {
   "codemirror_mode": {
    "name": "ipython",
    "version": 3
   },
   "file_extension": ".py",
   "mimetype": "text/x-python",
   "name": "python",
   "nbconvert_exporter": "python",
   "pygments_lexer": "ipython3",
   "version": "3.7.7"
  }
 },
 "nbformat": 4,
 "nbformat_minor": 4
}
